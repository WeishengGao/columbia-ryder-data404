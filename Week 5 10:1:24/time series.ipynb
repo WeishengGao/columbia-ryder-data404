{
 "cells": [
  {
   "cell_type": "code",
   "execution_count": 4,
   "id": "4ba51660",
   "metadata": {
    "ExecuteTime": {
     "end_time": "2024-09-29T01:37:26.941525Z",
     "start_time": "2024-09-29T01:37:26.924532Z"
    }
   },
   "outputs": [],
   "source": [
    "import pandas as pd\n",
    "import numpy as np\n",
    "from sklearn.linear_model import LinearRegression\n",
    "from sklearn.metrics import r2_score, mean_squared_error\n",
    "import matplotlib.pyplot as plt\n",
    "import pandas as pd\n",
    "#!pip install tqdm\n",
    "from tqdm import tqdm #progress bar\n",
    "import matplotlib.pyplot as plt\n",
    "import seaborn as sns\n",
    "from statsmodels.tsa.seasonal import STL\n",
    "from sklearn.linear_model import LinearRegression\n",
    "import numpy as np\n",
    "from scipy.stats import pearsonr\n",
    "from scipy import stats\n",
    "import requests\n",
    "import json\n",
    "import time\n",
    "import matplotlib.dates as mdates\n",
    "from sklearn.model_selection import train_test_split\n",
    "import statsmodels.api as sm\n",
    "from sklearn.ensemble import RandomForestRegressor\n",
    "#! pip install xgboost\n",
    "from xgboost import XGBRegressor\n",
    "from sklearn.neural_network import MLPRegressor\n",
    "from statsmodels.tsa.arima.model import ARIMA"
   ]
  },
  {
   "cell_type": "code",
   "execution_count": 2,
   "id": "2e4bc158",
   "metadata": {
    "ExecuteTime": {
     "end_time": "2024-09-29T01:35:18.910908Z",
     "start_time": "2024-09-29T01:31:47.600412Z"
    }
   },
   "outputs": [
    {
     "name": "stderr",
     "output_type": "stream",
     "text": [
      "Loading sheets: 100%|████████████████████████████████████████████████████████████████████| 6/6 [03:30<00:00, 35.08s/it]\n"
     ]
    }
   ],
   "source": [
    "excel_file_path = r\"C:\\Users\\Qihang Tang\\OneDrive\\桌面\\APAN\\Capstone\\RC Projection data since 2022 28AUG24.xlsx\"\n",
    "\n",
    "excel_file = pd.ExcelFile(excel_file_path)\n",
    "\n",
    "sheets_to_load = ['2022', '2023', '2024', 'Workday Calendar', 'Location hierarchy', 'Fleet Count']\n",
    "\n",
    "dfs = {}\n",
    "\n",
    "for sheet in tqdm(sheets_to_load, desc=\"Loading sheets\"):\n",
    "    dfs[sheet] = pd.read_excel(excel_file, sheet_name=sheet)\n",
    "\n",
    "df_2022 = dfs['2022']\n",
    "df_2023 = dfs['2023']\n",
    "df_2024 = dfs['2024']\n",
    "workday_calendar = dfs['Workday Calendar']\n",
    "location_df = dfs['Location hierarchy']\n",
    "fleet_count = dfs['Fleet Count']"
   ]
  },
  {
   "cell_type": "code",
   "execution_count": 3,
   "id": "8601e9e8",
   "metadata": {
    "ExecuteTime": {
     "end_time": "2024-09-29T01:35:20.242897Z",
     "start_time": "2024-09-29T01:35:19.559239Z"
    }
   },
   "outputs": [],
   "source": [
    "df_total = pd.concat([df_2022, df_2023, df_2024], axis=0, ignore_index=True)\n",
    "df_total = df_total.loc[:, ~df_total.columns.str.contains('^Unnamed')]\n",
    "workday_months = workday_calendar[['MONTH', 'WD_IN_MNTH', 'DAYS_IN_MNTH', 'SATURDAY_COUNT', 'WEEKDAY_HOLIDAYS']]\n",
    "workday_months = workday_months.dropna(how='all')\n",
    "\n",
    "workday_days = workday_calendar[['MONTH.1', 'DT', 'DT_KEY', 'WD_IN_MNTH.1', 'DAYS_IN_MNTH.1', 'SATURDAY_COUNT.1', 'WEEKDAY_HOLIDAYS.1',\n",
    "                                'Saturdays in Month', 'Workdays in Month', 'Max Workday', 'Max Saturday',\n",
    "                                'WD Remaining', 'Saturday Remaining']]"
   ]
  },
  {
   "cell_type": "code",
   "execution_count": 5,
   "id": "96f729a7",
   "metadata": {
    "ExecuteTime": {
     "end_time": "2024-09-29T01:45:57.815939Z",
     "start_time": "2024-09-29T01:45:57.789626Z"
    }
   },
   "outputs": [
    {
     "data": {
      "text/plain": [
       "Index(['MONTH', 'YEAR', 'GL_TRANSACTION_EFFECTIVE_DT', 'GL_EFF_WD_NBR',\n",
       "       'FIN_SOURCE_TYPE_DESC', 'LOCATION_CD', 'LOCATION_DESC', 'BU_DESC',\n",
       "       'REGION_DESC', 'TRANSACTION_AMOUNT'],\n",
       "      dtype='object')"
      ]
     },
     "execution_count": 5,
     "metadata": {},
     "output_type": "execute_result"
    }
   ],
   "source": [
    "df_total.columns"
   ]
  },
  {
   "cell_type": "code",
   "execution_count": 6,
   "id": "a340c618",
   "metadata": {
    "ExecuteTime": {
     "end_time": "2024-09-29T01:47:09.189112Z",
     "start_time": "2024-09-29T01:47:09.174038Z"
    }
   },
   "outputs": [
    {
     "name": "stdout",
     "output_type": "stream",
     "text": [
      "datetime64[ns]\n"
     ]
    }
   ],
   "source": [
    "print(df_total['GL_TRANSACTION_EFFECTIVE_DT'].dtype)"
   ]
  },
  {
   "cell_type": "code",
   "execution_count": 16,
   "id": "bf700cc5",
   "metadata": {
    "ExecuteTime": {
     "end_time": "2024-09-29T01:50:34.895543Z",
     "start_time": "2024-09-29T01:50:34.821419Z"
    }
   },
   "outputs": [],
   "source": [
    "daily_cost = df_total[['GL_TRANSACTION_EFFECTIVE_DT','TRANSACTION_AMOUNT']].groupby(df_total['GL_TRANSACTION_EFFECTIVE_DT']).sum()"
   ]
  },
  {
   "cell_type": "code",
   "execution_count": 17,
   "id": "b2396ac7",
   "metadata": {
    "ExecuteTime": {
     "end_time": "2024-09-29T01:50:37.434482Z",
     "start_time": "2024-09-29T01:50:37.408248Z"
    }
   },
   "outputs": [
    {
     "data": {
      "text/html": [
       "<div>\n",
       "<style scoped>\n",
       "    .dataframe tbody tr th:only-of-type {\n",
       "        vertical-align: middle;\n",
       "    }\n",
       "\n",
       "    .dataframe tbody tr th {\n",
       "        vertical-align: top;\n",
       "    }\n",
       "\n",
       "    .dataframe thead th {\n",
       "        text-align: right;\n",
       "    }\n",
       "</style>\n",
       "<table border=\"1\" class=\"dataframe\">\n",
       "  <thead>\n",
       "    <tr style=\"text-align: right;\">\n",
       "      <th></th>\n",
       "      <th>TRANSACTION_AMOUNT</th>\n",
       "    </tr>\n",
       "    <tr>\n",
       "      <th>GL_TRANSACTION_EFFECTIVE_DT</th>\n",
       "      <th></th>\n",
       "    </tr>\n",
       "  </thead>\n",
       "  <tbody>\n",
       "    <tr>\n",
       "      <th>2022-01-02</th>\n",
       "      <td>27352.00</td>\n",
       "    </tr>\n",
       "    <tr>\n",
       "      <th>2022-01-03</th>\n",
       "      <td>-75474.28</td>\n",
       "    </tr>\n",
       "    <tr>\n",
       "      <th>2022-01-04</th>\n",
       "      <td>1886477.74</td>\n",
       "    </tr>\n",
       "    <tr>\n",
       "      <th>2022-01-05</th>\n",
       "      <td>2538613.52</td>\n",
       "    </tr>\n",
       "    <tr>\n",
       "      <th>2022-01-06</th>\n",
       "      <td>2526572.20</td>\n",
       "    </tr>\n",
       "    <tr>\n",
       "      <th>...</th>\n",
       "      <td>...</td>\n",
       "    </tr>\n",
       "    <tr>\n",
       "      <th>2024-08-23</th>\n",
       "      <td>320023.56</td>\n",
       "    </tr>\n",
       "    <tr>\n",
       "      <th>2024-08-24</th>\n",
       "      <td>3411333.05</td>\n",
       "    </tr>\n",
       "    <tr>\n",
       "      <th>2024-08-25</th>\n",
       "      <td>83911.39</td>\n",
       "    </tr>\n",
       "    <tr>\n",
       "      <th>2024-08-26</th>\n",
       "      <td>3686779.78</td>\n",
       "    </tr>\n",
       "    <tr>\n",
       "      <th>2024-08-27</th>\n",
       "      <td>3933651.80</td>\n",
       "    </tr>\n",
       "  </tbody>\n",
       "</table>\n",
       "<p>968 rows × 1 columns</p>\n",
       "</div>"
      ],
      "text/plain": [
       "                             TRANSACTION_AMOUNT\n",
       "GL_TRANSACTION_EFFECTIVE_DT                    \n",
       "2022-01-02                             27352.00\n",
       "2022-01-03                            -75474.28\n",
       "2022-01-04                           1886477.74\n",
       "2022-01-05                           2538613.52\n",
       "2022-01-06                           2526572.20\n",
       "...                                         ...\n",
       "2024-08-23                            320023.56\n",
       "2024-08-24                           3411333.05\n",
       "2024-08-25                             83911.39\n",
       "2024-08-26                           3686779.78\n",
       "2024-08-27                           3933651.80\n",
       "\n",
       "[968 rows x 1 columns]"
      ]
     },
     "execution_count": 17,
     "metadata": {},
     "output_type": "execute_result"
    }
   ],
   "source": [
    "daily_cost"
   ]
  },
  {
   "cell_type": "code",
   "execution_count": 18,
   "id": "c47b2669",
   "metadata": {
    "ExecuteTime": {
     "end_time": "2024-09-29T01:50:45.931875Z",
     "start_time": "2024-09-29T01:50:45.910227Z"
    }
   },
   "outputs": [],
   "source": [
    "monthly_cost = daily_cost.resample('M').sum()"
   ]
  },
  {
   "cell_type": "code",
   "execution_count": 19,
   "id": "e8563d3e",
   "metadata": {
    "ExecuteTime": {
     "end_time": "2024-09-29T01:50:46.768664Z",
     "start_time": "2024-09-29T01:50:46.742099Z"
    }
   },
   "outputs": [
    {
     "data": {
      "text/html": [
       "<div>\n",
       "<style scoped>\n",
       "    .dataframe tbody tr th:only-of-type {\n",
       "        vertical-align: middle;\n",
       "    }\n",
       "\n",
       "    .dataframe tbody tr th {\n",
       "        vertical-align: top;\n",
       "    }\n",
       "\n",
       "    .dataframe thead th {\n",
       "        text-align: right;\n",
       "    }\n",
       "</style>\n",
       "<table border=\"1\" class=\"dataframe\">\n",
       "  <thead>\n",
       "    <tr style=\"text-align: right;\">\n",
       "      <th></th>\n",
       "      <th>TRANSACTION_AMOUNT</th>\n",
       "    </tr>\n",
       "    <tr>\n",
       "      <th>GL_TRANSACTION_EFFECTIVE_DT</th>\n",
       "      <th></th>\n",
       "    </tr>\n",
       "  </thead>\n",
       "  <tbody>\n",
       "    <tr>\n",
       "      <th>2022-01-31</th>\n",
       "      <td>67470454.28</td>\n",
       "    </tr>\n",
       "    <tr>\n",
       "      <th>2022-02-28</th>\n",
       "      <td>72296079.19</td>\n",
       "    </tr>\n",
       "    <tr>\n",
       "      <th>2022-03-31</th>\n",
       "      <td>83803003.11</td>\n",
       "    </tr>\n",
       "    <tr>\n",
       "      <th>2022-04-30</th>\n",
       "      <td>72017569.35</td>\n",
       "    </tr>\n",
       "    <tr>\n",
       "      <th>2022-05-31</th>\n",
       "      <td>78738462.15</td>\n",
       "    </tr>\n",
       "    <tr>\n",
       "      <th>2022-06-30</th>\n",
       "      <td>77517497.17</td>\n",
       "    </tr>\n",
       "    <tr>\n",
       "      <th>2022-07-31</th>\n",
       "      <td>77740491.47</td>\n",
       "    </tr>\n",
       "    <tr>\n",
       "      <th>2022-08-31</th>\n",
       "      <td>86372363.07</td>\n",
       "    </tr>\n",
       "    <tr>\n",
       "      <th>2022-09-30</th>\n",
       "      <td>82325584.91</td>\n",
       "    </tr>\n",
       "    <tr>\n",
       "      <th>2022-10-31</th>\n",
       "      <td>80987988.56</td>\n",
       "    </tr>\n",
       "    <tr>\n",
       "      <th>2022-11-30</th>\n",
       "      <td>73320904.20</td>\n",
       "    </tr>\n",
       "    <tr>\n",
       "      <th>2022-12-31</th>\n",
       "      <td>76578583.91</td>\n",
       "    </tr>\n",
       "    <tr>\n",
       "      <th>2023-01-31</th>\n",
       "      <td>86971060.41</td>\n",
       "    </tr>\n",
       "    <tr>\n",
       "      <th>2023-02-28</th>\n",
       "      <td>79558079.13</td>\n",
       "    </tr>\n",
       "    <tr>\n",
       "      <th>2023-03-31</th>\n",
       "      <td>93798395.87</td>\n",
       "    </tr>\n",
       "    <tr>\n",
       "      <th>2023-04-30</th>\n",
       "      <td>80991251.84</td>\n",
       "    </tr>\n",
       "    <tr>\n",
       "      <th>2023-05-31</th>\n",
       "      <td>83305004.52</td>\n",
       "    </tr>\n",
       "    <tr>\n",
       "      <th>2023-06-30</th>\n",
       "      <td>84142169.86</td>\n",
       "    </tr>\n",
       "    <tr>\n",
       "      <th>2023-07-31</th>\n",
       "      <td>78730482.83</td>\n",
       "    </tr>\n",
       "    <tr>\n",
       "      <th>2023-08-31</th>\n",
       "      <td>87365357.34</td>\n",
       "    </tr>\n",
       "    <tr>\n",
       "      <th>2023-09-30</th>\n",
       "      <td>78731402.11</td>\n",
       "    </tr>\n",
       "    <tr>\n",
       "      <th>2023-10-31</th>\n",
       "      <td>87354716.23</td>\n",
       "    </tr>\n",
       "    <tr>\n",
       "      <th>2023-11-30</th>\n",
       "      <td>71622035.86</td>\n",
       "    </tr>\n",
       "    <tr>\n",
       "      <th>2023-12-31</th>\n",
       "      <td>76277189.51</td>\n",
       "    </tr>\n",
       "    <tr>\n",
       "      <th>2024-01-31</th>\n",
       "      <td>79069202.67</td>\n",
       "    </tr>\n",
       "    <tr>\n",
       "      <th>2024-02-29</th>\n",
       "      <td>77857255.51</td>\n",
       "    </tr>\n",
       "    <tr>\n",
       "      <th>2024-03-31</th>\n",
       "      <td>79196581.19</td>\n",
       "    </tr>\n",
       "    <tr>\n",
       "      <th>2024-04-30</th>\n",
       "      <td>78635593.89</td>\n",
       "    </tr>\n",
       "    <tr>\n",
       "      <th>2024-05-31</th>\n",
       "      <td>73471462.27</td>\n",
       "    </tr>\n",
       "    <tr>\n",
       "      <th>2024-06-30</th>\n",
       "      <td>71902550.85</td>\n",
       "    </tr>\n",
       "    <tr>\n",
       "      <th>2024-07-31</th>\n",
       "      <td>81297488.95</td>\n",
       "    </tr>\n",
       "    <tr>\n",
       "      <th>2024-08-31</th>\n",
       "      <td>68960641.37</td>\n",
       "    </tr>\n",
       "  </tbody>\n",
       "</table>\n",
       "</div>"
      ],
      "text/plain": [
       "                             TRANSACTION_AMOUNT\n",
       "GL_TRANSACTION_EFFECTIVE_DT                    \n",
       "2022-01-31                          67470454.28\n",
       "2022-02-28                          72296079.19\n",
       "2022-03-31                          83803003.11\n",
       "2022-04-30                          72017569.35\n",
       "2022-05-31                          78738462.15\n",
       "2022-06-30                          77517497.17\n",
       "2022-07-31                          77740491.47\n",
       "2022-08-31                          86372363.07\n",
       "2022-09-30                          82325584.91\n",
       "2022-10-31                          80987988.56\n",
       "2022-11-30                          73320904.20\n",
       "2022-12-31                          76578583.91\n",
       "2023-01-31                          86971060.41\n",
       "2023-02-28                          79558079.13\n",
       "2023-03-31                          93798395.87\n",
       "2023-04-30                          80991251.84\n",
       "2023-05-31                          83305004.52\n",
       "2023-06-30                          84142169.86\n",
       "2023-07-31                          78730482.83\n",
       "2023-08-31                          87365357.34\n",
       "2023-09-30                          78731402.11\n",
       "2023-10-31                          87354716.23\n",
       "2023-11-30                          71622035.86\n",
       "2023-12-31                          76277189.51\n",
       "2024-01-31                          79069202.67\n",
       "2024-02-29                          77857255.51\n",
       "2024-03-31                          79196581.19\n",
       "2024-04-30                          78635593.89\n",
       "2024-05-31                          73471462.27\n",
       "2024-06-30                          71902550.85\n",
       "2024-07-31                          81297488.95\n",
       "2024-08-31                          68960641.37"
      ]
     },
     "execution_count": 19,
     "metadata": {},
     "output_type": "execute_result"
    }
   ],
   "source": [
    "monthly_cost"
   ]
  },
  {
   "cell_type": "code",
   "execution_count": 28,
   "id": "fc93b0d3",
   "metadata": {
    "ExecuteTime": {
     "end_time": "2024-09-29T01:54:37.626523Z",
     "start_time": "2024-09-29T01:54:37.334595Z"
    }
   },
   "outputs": [
    {
     "data": {
      "text/plain": [
       "<Figure size 3600x2160 with 0 Axes>"
      ]
     },
     "metadata": {},
     "output_type": "display_data"
    },
    {
     "data": {
      "image/png": "[encoded data removed]",
      "text/plain": [
       "<Figure size 432x288 with 1 Axes>"
      ]
     },
     "metadata": {
      "needs_background": "light"
     },
     "output_type": "display_data"
    }
   ],
   "source": [
    "plt.figure(figsize=(50, 30))\n",
    "\n",
    "monthly_cost.plot()\n",
    "plt.title('Monthly Cost Over Time')\n",
    "plt.xlabel('Month')\n",
    "plt.ylabel('Cost Amount')\n",
    "\n",
    "plt.show()"
   ]
  },
  {
   "cell_type": "code",
   "execution_count": 30,
   "id": "11171574",
   "metadata": {
    "ExecuteTime": {
     "end_time": "2024-09-29T01:55:18.185494Z",
     "start_time": "2024-09-29T01:55:18.135460Z"
    }
   },
   "outputs": [
    {
     "name": "stdout",
     "output_type": "stream",
     "text": [
      "ADF Statistic: -3.163477\n",
      "p-value: 0.022199\n",
      "Critical Values:\n",
      "\t1%: -3.670\n",
      "\t5%: -2.964\n",
      "\t10%: -2.621\n"
     ]
    }
   ],
   "source": [
    "from statsmodels.tsa.stattools import adfuller\n",
    "\n",
    "result = adfuller(monthly_cost['TRANSACTION_AMOUNT'])\n",
    "print('ADF Statistic: %f' % result[0])\n",
    "print('p-value: %f' % result[1])\n",
    "print('Critical Values:')\n",
    "for key, value in result[4].items():\n",
    "    print('\\t%s: %.3f' % (key, value))"
   ]
  },
  {
   "cell_type": "code",
   "execution_count": 43,
   "id": "3b90c7cd",
   "metadata": {
    "ExecuteTime": {
     "end_time": "2024-09-29T02:09:41.797639Z",
     "start_time": "2024-09-29T02:09:13.291289Z"
    }
   },
   "outputs": [
    {
     "name": "stderr",
     "output_type": "stream",
     "text": [
      "ERROR: pip's dependency resolver does not currently take into account all the packages that are installed. This behaviour is the source of the following dependency conflicts.\n",
      "scipy 1.6.2 requires numpy<1.23.0,>=1.16.5, but you have numpy 1.24.4 which is incompatible.\n",
      "Importing plotly failed. Interactive plots will not work.\n"
     ]
    },
    {
     "name": "stdout",
     "output_type": "stream",
     "text": [
      "Collecting prophet\n",
      "  Downloading prophet-1.1.5-py3-none-win_amd64.whl (13.3 MB)\n",
      "Requirement already satisfied: pandas in c:\\anoconda3\\lib\\site-packages (1.2.4)\n",
      "Requirement already satisfied: numpy>=1.16.5 in c:\\anoconda3\\lib\\site-packages (from pandas) (1.20.1)\n",
      "Requirement already satisfied: python-dateutil>=2.7.3 in c:\\anoconda3\\lib\\site-packages (from pandas) (2.8.1)\n",
      "Requirement already satisfied: pytz>=2017.3 in c:\\anoconda3\\lib\\site-packages (from pandas) (2021.1)\n",
      "Requirement already satisfied: six>=1.5 in c:\\anoconda3\\lib\\site-packages (from python-dateutil>=2.7.3->pandas) (1.15.0)\n",
      "Collecting importlib-resources\n",
      "  Downloading importlib_resources-6.4.5-py3-none-any.whl (36 kB)\n",
      "Collecting holidays>=0.25\n",
      "  Downloading holidays-0.57-py3-none-any.whl (1.1 MB)\n",
      "Collecting cmdstanpy>=1.0.4\n",
      "  Downloading cmdstanpy-1.2.4-py3-none-any.whl (94 kB)\n",
      "Requirement already satisfied: tqdm>=4.36.1 in c:\\anoconda3\\lib\\site-packages (from prophet) (4.59.0)\n",
      "Requirement already satisfied: matplotlib>=2.0.0 in c:\\anoconda3\\lib\\site-packages (from prophet) (3.3.4)\n",
      "Collecting stanio<2.0.0,>=0.4.0\n",
      "  Downloading stanio-0.5.1-py3-none-any.whl (8.1 kB)\n",
      "Collecting numpy>=1.16.5\n",
      "  Downloading numpy-1.24.4-cp38-cp38-win_amd64.whl (14.9 MB)\n",
      "Requirement already satisfied: pyparsing!=2.0.4,!=2.1.2,!=2.1.6,>=2.0.3 in c:\\anoconda3\\lib\\site-packages (from matplotlib>=2.0.0->prophet) (2.4.7)\n",
      "Requirement already satisfied: kiwisolver>=1.0.1 in c:\\anoconda3\\lib\\site-packages (from matplotlib>=2.0.0->prophet) (1.3.1)\n",
      "Requirement already satisfied: pillow>=6.2.0 in c:\\anoconda3\\lib\\site-packages (from matplotlib>=2.0.0->prophet) (8.2.0)\n",
      "Requirement already satisfied: cycler>=0.10 in c:\\anoconda3\\lib\\site-packages (from matplotlib>=2.0.0->prophet) (0.10.0)\n",
      "Requirement already satisfied: zipp>=3.1.0 in c:\\anoconda3\\lib\\site-packages (from importlib-resources->prophet) (3.4.1)\n",
      "Installing collected packages: numpy, stanio, importlib-resources, holidays, cmdstanpy, prophet\n",
      "  Attempting uninstall: numpy\n",
      "    Found existing installation: numpy 1.20.1\n",
      "    Uninstalling numpy-1.20.1:\n",
      "      Successfully uninstalled numpy-1.20.1\n",
      "Successfully installed cmdstanpy-1.2.4 holidays-0.57 importlib-resources-6.4.5 numpy-1.24.4 prophet-1.1.5 stanio-0.5.1\n"
     ]
    }
   ],
   "source": [
    "#!pip install prophet pandas\n",
    "import pandas as pd\n",
    "from prophet import Prophet\n",
    "import numpy as np\n",
    "from sklearn.metrics import mean_absolute_error"
   ]
  },
  {
   "cell_type": "code",
   "execution_count": 55,
   "id": "3519d624",
   "metadata": {
    "ExecuteTime": {
     "end_time": "2024-09-29T02:15:23.738213Z",
     "start_time": "2024-09-29T02:15:23.727142Z"
    }
   },
   "outputs": [],
   "source": [
    "# Function to reshape daily cost data into monthly windows using index as date\n",
    "def create_daily_features(df, N):\n",
    "    df = df.copy()\n",
    "    \n",
    "    # Ensure the index is in datetime format\n",
    "    df.index = pd.to_datetime(df.index)\n",
    "    \n",
    "    # Extract the month from the index (date)\n",
    "    df['month'] = df.index.to_period('M')\n",
    "    \n",
    "    # Group by month and select the first N daily costs\n",
    "    daily_features = df.groupby('month')['TRANSACTION_AMOUNT'].apply(lambda x: list(x)[:N]).reset_index()\n",
    "    \n",
    "    # Add the N value used\n",
    "    daily_features['N'] = N\n",
    "    return daily_features"
   ]
  },
  {
   "cell_type": "code",
   "execution_count": 60,
   "id": "5e7f967e",
   "metadata": {
    "ExecuteTime": {
     "end_time": "2024-09-29T02:16:07.602581Z",
     "start_time": "2024-09-29T02:16:07.551247Z"
    }
   },
   "outputs": [
    {
     "data": {
      "text/html": [
       "<div>\n",
       "<style scoped>\n",
       "    .dataframe tbody tr th:only-of-type {\n",
       "        vertical-align: middle;\n",
       "    }\n",
       "\n",
       "    .dataframe tbody tr th {\n",
       "        vertical-align: top;\n",
       "    }\n",
       "\n",
       "    .dataframe thead th {\n",
       "        text-align: right;\n",
       "    }\n",
       "</style>\n",
       "<table border=\"1\" class=\"dataframe\">\n",
       "  <thead>\n",
       "    <tr style=\"text-align: right;\">\n",
       "      <th></th>\n",
       "      <th>month</th>\n",
       "      <th>TRANSACTION_AMOUNT</th>\n",
       "      <th>N</th>\n",
       "    </tr>\n",
       "  </thead>\n",
       "  <tbody>\n",
       "    <tr>\n",
       "      <th>0</th>\n",
       "      <td>2022-01</td>\n",
       "      <td>[27352.0, -75474.2800000001, 1886477.739999998...</td>\n",
       "      <td>5</td>\n",
       "    </tr>\n",
       "    <tr>\n",
       "      <th>1</th>\n",
       "      <td>2022-02</td>\n",
       "      <td>[1953231.7100000007, 3711109.299999999, 272299...</td>\n",
       "      <td>5</td>\n",
       "    </tr>\n",
       "    <tr>\n",
       "      <th>2</th>\n",
       "      <td>2022-03</td>\n",
       "      <td>[1543466.6199999955, 5584284.899999992, 318589...</td>\n",
       "      <td>5</td>\n",
       "    </tr>\n",
       "    <tr>\n",
       "      <th>3</th>\n",
       "      <td>2022-04</td>\n",
       "      <td>[1743582.729999999, 193197.56000000003, 269899...</td>\n",
       "      <td>5</td>\n",
       "    </tr>\n",
       "    <tr>\n",
       "      <th>4</th>\n",
       "      <td>2022-05</td>\n",
       "      <td>[2001798.5900000003, 146580.59000000008, 48376...</td>\n",
       "      <td>5</td>\n",
       "    </tr>\n",
       "    <tr>\n",
       "      <th>5</th>\n",
       "      <td>2022-06</td>\n",
       "      <td>[1724320.2599999984, 4690624.939999995, 344223...</td>\n",
       "      <td>5</td>\n",
       "    </tr>\n",
       "    <tr>\n",
       "      <th>6</th>\n",
       "      <td>2022-07</td>\n",
       "      <td>[516143.8100000001, 1563894.3100000003, 327840...</td>\n",
       "      <td>5</td>\n",
       "    </tr>\n",
       "    <tr>\n",
       "      <th>7</th>\n",
       "      <td>2022-08</td>\n",
       "      <td>[1665377.080000001, 4167710.9899999914, 392338...</td>\n",
       "      <td>5</td>\n",
       "    </tr>\n",
       "    <tr>\n",
       "      <th>8</th>\n",
       "      <td>2022-09</td>\n",
       "      <td>[2015758.2599999998, 4500793.240000004, 8315.4...</td>\n",
       "      <td>5</td>\n",
       "    </tr>\n",
       "    <tr>\n",
       "      <th>9</th>\n",
       "      <td>2022-10</td>\n",
       "      <td>[33498.130000000005, 59647.47999999999, -1757....</td>\n",
       "      <td>5</td>\n",
       "    </tr>\n",
       "    <tr>\n",
       "      <th>10</th>\n",
       "      <td>2022-11</td>\n",
       "      <td>[2314148.8200000026, 4178852.2299999995, 57397...</td>\n",
       "      <td>5</td>\n",
       "    </tr>\n",
       "    <tr>\n",
       "      <th>11</th>\n",
       "      <td>2022-12</td>\n",
       "      <td>[2114105.859999998, 5078583.880000003, 97161.0...</td>\n",
       "      <td>5</td>\n",
       "    </tr>\n",
       "    <tr>\n",
       "      <th>12</th>\n",
       "      <td>2023-01</td>\n",
       "      <td>[1972730.7299999988, 280760.63, 433919.8200000...</td>\n",
       "      <td>5</td>\n",
       "    </tr>\n",
       "    <tr>\n",
       "      <th>13</th>\n",
       "      <td>2023-02</td>\n",
       "      <td>[598419.5700000004, 7708146.46000001, 3825376....</td>\n",
       "      <td>5</td>\n",
       "    </tr>\n",
       "    <tr>\n",
       "      <th>14</th>\n",
       "      <td>2023-03</td>\n",
       "      <td>[2340129.45, 4695526.529999998, 3936356.610000...</td>\n",
       "      <td>5</td>\n",
       "    </tr>\n",
       "    <tr>\n",
       "      <th>15</th>\n",
       "      <td>2023-04</td>\n",
       "      <td>[87223.26999999996, 1557889.1799999985, 288905...</td>\n",
       "      <td>5</td>\n",
       "    </tr>\n",
       "    <tr>\n",
       "      <th>16</th>\n",
       "      <td>2023-05</td>\n",
       "      <td>[1683387.44, 5108353.289999995, 3752058.469999...</td>\n",
       "      <td>5</td>\n",
       "    </tr>\n",
       "    <tr>\n",
       "      <th>17</th>\n",
       "      <td>2023-06</td>\n",
       "      <td>[2056565.59, 4945691.14, 196377.33, 1043650.60...</td>\n",
       "      <td>5</td>\n",
       "    </tr>\n",
       "    <tr>\n",
       "      <th>18</th>\n",
       "      <td>2023-07</td>\n",
       "      <td>[164945.45000000004, 826637.8500000006, -88343...</td>\n",
       "      <td>5</td>\n",
       "    </tr>\n",
       "    <tr>\n",
       "      <th>19</th>\n",
       "      <td>2023-08</td>\n",
       "      <td>[1826844.5899999982, 5030895.290000008, 424895...</td>\n",
       "      <td>5</td>\n",
       "    </tr>\n",
       "    <tr>\n",
       "      <th>20</th>\n",
       "      <td>2023-09</td>\n",
       "      <td>[1426904.0599999994, 80022.71999999999, 280061...</td>\n",
       "      <td>5</td>\n",
       "    </tr>\n",
       "    <tr>\n",
       "      <th>21</th>\n",
       "      <td>2023-10</td>\n",
       "      <td>[1565718.72, -125220.63999999978, 6174429.2699...</td>\n",
       "      <td>5</td>\n",
       "    </tr>\n",
       "    <tr>\n",
       "      <th>22</th>\n",
       "      <td>2023-11</td>\n",
       "      <td>[1533015.0899999996, 5385529.689999981, 339959...</td>\n",
       "      <td>5</td>\n",
       "    </tr>\n",
       "    <tr>\n",
       "      <th>23</th>\n",
       "      <td>2023-12</td>\n",
       "      <td>[5024217.139999991, 152617.38999999996, 268349...</td>\n",
       "      <td>5</td>\n",
       "    </tr>\n",
       "    <tr>\n",
       "      <th>24</th>\n",
       "      <td>2024-01</td>\n",
       "      <td>[117491.33, 934979.780000003, 5416475.32000000...</td>\n",
       "      <td>5</td>\n",
       "    </tr>\n",
       "    <tr>\n",
       "      <th>25</th>\n",
       "      <td>2024-02</td>\n",
       "      <td>[1496762.0500000028, 5266597.579999996, 109567...</td>\n",
       "      <td>5</td>\n",
       "    </tr>\n",
       "    <tr>\n",
       "      <th>26</th>\n",
       "      <td>2024-03</td>\n",
       "      <td>[2959585.199999999, 88817.69, 2642890.83000000...</td>\n",
       "      <td>5</td>\n",
       "    </tr>\n",
       "    <tr>\n",
       "      <th>27</th>\n",
       "      <td>2024-04</td>\n",
       "      <td>[621318.5500000004, 5329109.830000003, 3476879...</td>\n",
       "      <td>5</td>\n",
       "    </tr>\n",
       "    <tr>\n",
       "      <th>28</th>\n",
       "      <td>2024-05</td>\n",
       "      <td>[1371610.9300000006, 4994663.18, 3101067.90000...</td>\n",
       "      <td>5</td>\n",
       "    </tr>\n",
       "    <tr>\n",
       "      <th>29</th>\n",
       "      <td>2024-06</td>\n",
       "      <td>[119740.06, 811057.7999999999, 3102618.7899999...</td>\n",
       "      <td>5</td>\n",
       "    </tr>\n",
       "    <tr>\n",
       "      <th>30</th>\n",
       "      <td>2024-07</td>\n",
       "      <td>[3509483.3799999985, 691825.3800000002, 767101...</td>\n",
       "      <td>5</td>\n",
       "    </tr>\n",
       "    <tr>\n",
       "      <th>31</th>\n",
       "      <td>2024-08</td>\n",
       "      <td>[352601.77000000014, 1767200.4300000013, 48778...</td>\n",
       "      <td>5</td>\n",
       "    </tr>\n",
       "  </tbody>\n",
       "</table>\n",
       "</div>"
      ],
      "text/plain": [
       "      month                                 TRANSACTION_AMOUNT  N\n",
       "0   2022-01  [27352.0, -75474.2800000001, 1886477.739999998...  5\n",
       "1   2022-02  [1953231.7100000007, 3711109.299999999, 272299...  5\n",
       "2   2022-03  [1543466.6199999955, 5584284.899999992, 318589...  5\n",
       "3   2022-04  [1743582.729999999, 193197.56000000003, 269899...  5\n",
       "4   2022-05  [2001798.5900000003, 146580.59000000008, 48376...  5\n",
       "5   2022-06  [1724320.2599999984, 4690624.939999995, 344223...  5\n",
       "6   2022-07  [516143.8100000001, 1563894.3100000003, 327840...  5\n",
       "7   2022-08  [1665377.080000001, 4167710.9899999914, 392338...  5\n",
       "8   2022-09  [2015758.2599999998, 4500793.240000004, 8315.4...  5\n",
       "9   2022-10  [33498.130000000005, 59647.47999999999, -1757....  5\n",
       "10  2022-11  [2314148.8200000026, 4178852.2299999995, 57397...  5\n",
       "11  2022-12  [2114105.859999998, 5078583.880000003, 97161.0...  5\n",
       "12  2023-01  [1972730.7299999988, 280760.63, 433919.8200000...  5\n",
       "13  2023-02  [598419.5700000004, 7708146.46000001, 3825376....  5\n",
       "14  2023-03  [2340129.45, 4695526.529999998, 3936356.610000...  5\n",
       "15  2023-04  [87223.26999999996, 1557889.1799999985, 288905...  5\n",
       "16  2023-05  [1683387.44, 5108353.289999995, 3752058.469999...  5\n",
       "17  2023-06  [2056565.59, 4945691.14, 196377.33, 1043650.60...  5\n",
       "18  2023-07  [164945.45000000004, 826637.8500000006, -88343...  5\n",
       "19  2023-08  [1826844.5899999982, 5030895.290000008, 424895...  5\n",
       "20  2023-09  [1426904.0599999994, 80022.71999999999, 280061...  5\n",
       "21  2023-10  [1565718.72, -125220.63999999978, 6174429.2699...  5\n",
       "22  2023-11  [1533015.0899999996, 5385529.689999981, 339959...  5\n",
       "23  2023-12  [5024217.139999991, 152617.38999999996, 268349...  5\n",
       "24  2024-01  [117491.33, 934979.780000003, 5416475.32000000...  5\n",
       "25  2024-02  [1496762.0500000028, 5266597.579999996, 109567...  5\n",
       "26  2024-03  [2959585.199999999, 88817.69, 2642890.83000000...  5\n",
       "27  2024-04  [621318.5500000004, 5329109.830000003, 3476879...  5\n",
       "28  2024-05  [1371610.9300000006, 4994663.18, 3101067.90000...  5\n",
       "29  2024-06  [119740.06, 811057.7999999999, 3102618.7899999...  5\n",
       "30  2024-07  [3509483.3799999985, 691825.3800000002, 767101...  5\n",
       "31  2024-08  [352601.77000000014, 1767200.4300000013, 48778...  5"
      ]
     },
     "execution_count": 60,
     "metadata": {},
     "output_type": "execute_result"
    }
   ],
   "source": [
    "create_daily_features(daily_cost,5)"
   ]
  },
  {
   "cell_type": "code",
   "execution_count": 76,
   "id": "667f86be",
   "metadata": {
    "ExecuteTime": {
     "end_time": "2024-09-29T02:22:38.274089Z",
     "start_time": "2024-09-29T02:22:38.255684Z"
    }
   },
   "outputs": [],
   "source": [
    "def train_predict_prophet(daily_df, N_values, window_values, monthly_df):\n",
    "    results = []\n",
    "\n",
    "    for N in N_values:\n",
    "        daily_features = create_daily_features(daily_df, N)\n",
    "\n",
    "        for window in window_values:\n",
    "            for i in range(len(daily_features) - window):\n",
    "                # Prepare training data\n",
    "                train_data = daily_features.iloc[i:i+window]\n",
    "                train_months = monthly_df.iloc[i:i+window]\n",
    "                #print(train_months)\n",
    "\n",
    "                # Create Prophet model and fit on training data\n",
    "                prophet_df = pd.DataFrame({'ds': train_months.index.astype(str), 'y': train_months['TRANSACTION_AMOUNT']})\n",
    "                \n",
    "                 # Skip if there are fewer than 2 valid rows\n",
    "                if prophet_df.dropna().shape[0] < 2:\n",
    "                    continue  # Skip this iteration if there's not enough data\n",
    "\n",
    "                model = Prophet()\n",
    "                model.fit(prophet_df)\n",
    "\n",
    "                # Make future dataframe for the next month\n",
    "                future = pd.DataFrame({'ds': [daily_features['month'].iloc[i+window].astype(str)]})\n",
    "                forecast = model.predict(future)\n",
    "\n",
    "                # Calculate error between forecast and true value\n",
    "                actual = monthly_df['monthly_cost'].iloc[i+window]\n",
    "                predicted = forecast['yhat'].values[0]\n",
    "                error = mean_absolute_error([actual], [predicted])\n",
    "\n",
    "                results.append({\n",
    "                    'N': N,\n",
    "                    'window': window,\n",
    "                    'actual': actual,\n",
    "                    'predicted': predicted,\n",
    "                    'error': error\n",
    "                })\n",
    "    return pd.DataFrame(results)"
   ]
  },
  {
   "cell_type": "code",
   "execution_count": 77,
   "id": "b87e7903",
   "metadata": {
    "ExecuteTime": {
     "end_time": "2024-09-29T02:22:42.372922Z",
     "start_time": "2024-09-29T02:22:40.093134Z"
    }
   },
   "outputs": [
    {
     "name": "stdout",
     "output_type": "stream",
     "text": [
      "                                     ds            y\n",
      "GL_TRANSACTION_EFFECTIVE_DT                         \n",
      "2022-01-31                   2022-01-31  67470454.28\n",
      "2022-02-28                   2022-02-28  72296079.19\n"
     ]
    },
    {
     "name": "stderr",
     "output_type": "stream",
     "text": [
      "22:22:40 - cmdstanpy - INFO - Chain [1] start processing\n",
      "22:22:42 - cmdstanpy - INFO - Chain [1] done processing\n",
      "22:22:42 - cmdstanpy - ERROR - Chain [1] error: terminated by signal 3221225657 \n"
     ]
    },
    {
     "ename": "RuntimeError",
     "evalue": "Error during optimization! Command 'C:\\Anoconda3\\Lib\\site-packages\\prophet\\stan_model\\prophet_model.bin random seed=68869 data file=C:\\Users\\QIHANG~1\\AppData\\Local\\Temp\\tmpoksp48g7\\r_uhxn5b.json init=C:\\Users\\QIHANG~1\\AppData\\Local\\Temp\\tmpoksp48g7\\ci561ede.json output file=C:\\Users\\QIHANG~1\\AppData\\Local\\Temp\\tmpoksp48g7\\prophet_model71bwgt3g\\prophet_model-20240928222240.csv method=optimize algorithm=newton iter=10000' failed: ",
     "output_type": "error",
     "traceback": [
      "\u001b[1;31m---------------------------------------------------------------------------\u001b[0m",
      "\u001b[1;31mRuntimeError\u001b[0m                              Traceback (most recent call last)",
      "\u001b[1;32m<ipython-input-77-91c8c5d40610>\u001b[0m in \u001b[0;36m<module>\u001b[1;34m\u001b[0m\n\u001b[0;32m      3\u001b[0m \u001b[0mwindow_values\u001b[0m \u001b[1;33m=\u001b[0m \u001b[1;33m[\u001b[0m\u001b[1;36m1\u001b[0m\u001b[1;33m,\u001b[0m \u001b[1;36m2\u001b[0m\u001b[1;33m]\u001b[0m\u001b[1;33m\u001b[0m\u001b[1;33m\u001b[0m\u001b[0m\n\u001b[0;32m      4\u001b[0m \u001b[1;33m\u001b[0m\u001b[0m\n\u001b[1;32m----> 5\u001b[1;33m \u001b[0mresult_df\u001b[0m \u001b[1;33m=\u001b[0m \u001b[0mtrain_predict_prophet\u001b[0m\u001b[1;33m(\u001b[0m\u001b[0mdaily_cost\u001b[0m\u001b[1;33m,\u001b[0m \u001b[0mN_values\u001b[0m\u001b[1;33m,\u001b[0m \u001b[0mwindow_values\u001b[0m\u001b[1;33m,\u001b[0m \u001b[0mmonthly_cost\u001b[0m\u001b[1;33m)\u001b[0m\u001b[1;33m\u001b[0m\u001b[1;33m\u001b[0m\u001b[0m\n\u001b[0m",
      "\u001b[1;32m<ipython-input-76-23ec9cd5dc13>\u001b[0m in \u001b[0;36mtrain_predict_prophet\u001b[1;34m(daily_df, N_values, window_values, monthly_df)\u001b[0m\n\u001b[0;32m     23\u001b[0m \u001b[1;33m\u001b[0m\u001b[0m\n\u001b[0;32m     24\u001b[0m                 \u001b[0mmodel\u001b[0m \u001b[1;33m=\u001b[0m \u001b[0mProphet\u001b[0m\u001b[1;33m(\u001b[0m\u001b[1;33m)\u001b[0m\u001b[1;33m\u001b[0m\u001b[1;33m\u001b[0m\u001b[0m\n\u001b[1;32m---> 25\u001b[1;33m                 \u001b[0mmodel\u001b[0m\u001b[1;33m.\u001b[0m\u001b[0mfit\u001b[0m\u001b[1;33m(\u001b[0m\u001b[0mprophet_df\u001b[0m\u001b[1;33m)\u001b[0m\u001b[1;33m\u001b[0m\u001b[1;33m\u001b[0m\u001b[0m\n\u001b[0m\u001b[0;32m     26\u001b[0m \u001b[1;33m\u001b[0m\u001b[0m\n\u001b[0;32m     27\u001b[0m                 \u001b[1;31m# Make future dataframe for the next month\u001b[0m\u001b[1;33m\u001b[0m\u001b[1;33m\u001b[0m\u001b[1;33m\u001b[0m\u001b[0m\n",
      "\u001b[1;32mC:\\Anoconda3\\lib\\site-packages\\prophet\\forecaster.py\u001b[0m in \u001b[0;36mfit\u001b[1;34m(self, df, **kwargs)\u001b[0m\n\u001b[0;32m   1230\u001b[0m             \u001b[0mself\u001b[0m\u001b[1;33m.\u001b[0m\u001b[0mparams\u001b[0m \u001b[1;33m=\u001b[0m \u001b[0mself\u001b[0m\u001b[1;33m.\u001b[0m\u001b[0mstan_backend\u001b[0m\u001b[1;33m.\u001b[0m\u001b[0msampling\u001b[0m\u001b[1;33m(\u001b[0m\u001b[0mstan_init\u001b[0m\u001b[1;33m,\u001b[0m \u001b[0mdat\u001b[0m\u001b[1;33m,\u001b[0m \u001b[0mself\u001b[0m\u001b[1;33m.\u001b[0m\u001b[0mmcmc_samples\u001b[0m\u001b[1;33m,\u001b[0m \u001b[1;33m**\u001b[0m\u001b[0mkwargs\u001b[0m\u001b[1;33m)\u001b[0m\u001b[1;33m\u001b[0m\u001b[1;33m\u001b[0m\u001b[0m\n\u001b[0;32m   1231\u001b[0m         \u001b[1;32melse\u001b[0m\u001b[1;33m:\u001b[0m\u001b[1;33m\u001b[0m\u001b[1;33m\u001b[0m\u001b[0m\n\u001b[1;32m-> 1232\u001b[1;33m             \u001b[0mself\u001b[0m\u001b[1;33m.\u001b[0m\u001b[0mparams\u001b[0m \u001b[1;33m=\u001b[0m \u001b[0mself\u001b[0m\u001b[1;33m.\u001b[0m\u001b[0mstan_backend\u001b[0m\u001b[1;33m.\u001b[0m\u001b[0mfit\u001b[0m\u001b[1;33m(\u001b[0m\u001b[0mstan_init\u001b[0m\u001b[1;33m,\u001b[0m \u001b[0mdat\u001b[0m\u001b[1;33m,\u001b[0m \u001b[1;33m**\u001b[0m\u001b[0mkwargs\u001b[0m\u001b[1;33m)\u001b[0m\u001b[1;33m\u001b[0m\u001b[1;33m\u001b[0m\u001b[0m\n\u001b[0m\u001b[0;32m   1233\u001b[0m \u001b[1;33m\u001b[0m\u001b[0m\n\u001b[0;32m   1234\u001b[0m         \u001b[0mself\u001b[0m\u001b[1;33m.\u001b[0m\u001b[0mstan_fit\u001b[0m \u001b[1;33m=\u001b[0m \u001b[0mself\u001b[0m\u001b[1;33m.\u001b[0m\u001b[0mstan_backend\u001b[0m\u001b[1;33m.\u001b[0m\u001b[0mstan_fit\u001b[0m\u001b[1;33m\u001b[0m\u001b[1;33m\u001b[0m\u001b[0m\n",
      "\u001b[1;32mC:\\Anoconda3\\lib\\site-packages\\prophet\\models.py\u001b[0m in \u001b[0;36mfit\u001b[1;34m(self, stan_init, stan_data, **kwargs)\u001b[0m\n\u001b[0;32m    123\u001b[0m             \u001b[1;31m# Fall back on Newton\u001b[0m\u001b[1;33m\u001b[0m\u001b[1;33m\u001b[0m\u001b[1;33m\u001b[0m\u001b[0m\n\u001b[0;32m    124\u001b[0m             \u001b[1;32mif\u001b[0m \u001b[1;32mnot\u001b[0m \u001b[0mself\u001b[0m\u001b[1;33m.\u001b[0m\u001b[0mnewton_fallback\u001b[0m \u001b[1;32mor\u001b[0m \u001b[0margs\u001b[0m\u001b[1;33m[\u001b[0m\u001b[1;34m'algorithm'\u001b[0m\u001b[1;33m]\u001b[0m \u001b[1;33m==\u001b[0m \u001b[1;34m'Newton'\u001b[0m\u001b[1;33m:\u001b[0m\u001b[1;33m\u001b[0m\u001b[1;33m\u001b[0m\u001b[0m\n\u001b[1;32m--> 125\u001b[1;33m                 \u001b[1;32mraise\u001b[0m \u001b[0me\u001b[0m\u001b[1;33m\u001b[0m\u001b[1;33m\u001b[0m\u001b[0m\n\u001b[0m\u001b[0;32m    126\u001b[0m             \u001b[0mlogger\u001b[0m\u001b[1;33m.\u001b[0m\u001b[0mwarning\u001b[0m\u001b[1;33m(\u001b[0m\u001b[1;34m'Optimization terminated abnormally. Falling back to Newton.'\u001b[0m\u001b[1;33m)\u001b[0m\u001b[1;33m\u001b[0m\u001b[1;33m\u001b[0m\u001b[0m\n\u001b[0;32m    127\u001b[0m             \u001b[0margs\u001b[0m\u001b[1;33m[\u001b[0m\u001b[1;34m'algorithm'\u001b[0m\u001b[1;33m]\u001b[0m \u001b[1;33m=\u001b[0m \u001b[1;34m'Newton'\u001b[0m\u001b[1;33m\u001b[0m\u001b[1;33m\u001b[0m\u001b[0m\n",
      "\u001b[1;32mC:\\Anoconda3\\lib\\site-packages\\prophet\\models.py\u001b[0m in \u001b[0;36mfit\u001b[1;34m(self, stan_init, stan_data, **kwargs)\u001b[0m\n\u001b[0;32m    119\u001b[0m \u001b[1;33m\u001b[0m\u001b[0m\n\u001b[0;32m    120\u001b[0m         \u001b[1;32mtry\u001b[0m\u001b[1;33m:\u001b[0m\u001b[1;33m\u001b[0m\u001b[1;33m\u001b[0m\u001b[0m\n\u001b[1;32m--> 121\u001b[1;33m             \u001b[0mself\u001b[0m\u001b[1;33m.\u001b[0m\u001b[0mstan_fit\u001b[0m \u001b[1;33m=\u001b[0m \u001b[0mself\u001b[0m\u001b[1;33m.\u001b[0m\u001b[0mmodel\u001b[0m\u001b[1;33m.\u001b[0m\u001b[0moptimize\u001b[0m\u001b[1;33m(\u001b[0m\u001b[1;33m**\u001b[0m\u001b[0margs\u001b[0m\u001b[1;33m)\u001b[0m\u001b[1;33m\u001b[0m\u001b[1;33m\u001b[0m\u001b[0m\n\u001b[0m\u001b[0;32m    122\u001b[0m         \u001b[1;32mexcept\u001b[0m \u001b[0mRuntimeError\u001b[0m \u001b[1;32mas\u001b[0m \u001b[0me\u001b[0m\u001b[1;33m:\u001b[0m\u001b[1;33m\u001b[0m\u001b[1;33m\u001b[0m\u001b[0m\n\u001b[0;32m    123\u001b[0m             \u001b[1;31m# Fall back on Newton\u001b[0m\u001b[1;33m\u001b[0m\u001b[1;33m\u001b[0m\u001b[1;33m\u001b[0m\u001b[0m\n",
      "\u001b[1;32mC:\\Anoconda3\\lib\\site-packages\\cmdstanpy\\model.py\u001b[0m in \u001b[0;36moptimize\u001b[1;34m(self, data, seed, inits, output_dir, sig_figs, save_profile, algorithm, init_alpha, tol_obj, tol_rel_obj, tol_grad, tol_rel_grad, tol_param, history_size, iter, save_iterations, require_converged, show_console, refresh, time_fmt, timeout, jacobian)\u001b[0m\n\u001b[0;32m    657\u001b[0m                 \u001b[0mget_logger\u001b[0m\u001b[1;33m(\u001b[0m\u001b[1;33m)\u001b[0m\u001b[1;33m.\u001b[0m\u001b[0mwarning\u001b[0m\u001b[1;33m(\u001b[0m\u001b[0mmsg\u001b[0m\u001b[1;33m)\u001b[0m\u001b[1;33m\u001b[0m\u001b[1;33m\u001b[0m\u001b[0m\n\u001b[0;32m    658\u001b[0m             \u001b[1;32melse\u001b[0m\u001b[1;33m:\u001b[0m\u001b[1;33m\u001b[0m\u001b[1;33m\u001b[0m\u001b[0m\n\u001b[1;32m--> 659\u001b[1;33m                 \u001b[1;32mraise\u001b[0m \u001b[0mRuntimeError\u001b[0m\u001b[1;33m(\u001b[0m\u001b[0mmsg\u001b[0m\u001b[1;33m)\u001b[0m\u001b[1;33m\u001b[0m\u001b[1;33m\u001b[0m\u001b[0m\n\u001b[0m\u001b[0;32m    660\u001b[0m         \u001b[0mmle\u001b[0m \u001b[1;33m=\u001b[0m \u001b[0mCmdStanMLE\u001b[0m\u001b[1;33m(\u001b[0m\u001b[0mrunset\u001b[0m\u001b[1;33m)\u001b[0m\u001b[1;33m\u001b[0m\u001b[1;33m\u001b[0m\u001b[0m\n\u001b[0;32m    661\u001b[0m         \u001b[1;32mreturn\u001b[0m \u001b[0mmle\u001b[0m\u001b[1;33m\u001b[0m\u001b[1;33m\u001b[0m\u001b[0m\n",
      "\u001b[1;31mRuntimeError\u001b[0m: Error during optimization! Command 'C:\\Anoconda3\\Lib\\site-packages\\prophet\\stan_model\\prophet_model.bin random seed=68869 data file=C:\\Users\\QIHANG~1\\AppData\\Local\\Temp\\tmpoksp48g7\\r_uhxn5b.json init=C:\\Users\\QIHANG~1\\AppData\\Local\\Temp\\tmpoksp48g7\\ci561ede.json output file=C:\\Users\\QIHANG~1\\AppData\\Local\\Temp\\tmpoksp48g7\\prophet_model71bwgt3g\\prophet_model-20240928222240.csv method=optimize algorithm=newton iter=10000' failed: "
     ]
    }
   ],
   "source": [
    "# Test N values (number of days) and window sizes\n",
    "N_values = [5, 8, 10, 12, 15, 21]\n",
    "window_values = [1, 2]\n",
    "\n",
    "result_df = train_predict_prophet(daily_cost, N_values, window_values, monthly_cost)"
   ]
  },
  {
   "cell_type": "code",
   "execution_count": 40,
   "id": "4a353a0d",
   "metadata": {
    "ExecuteTime": {
     "end_time": "2024-09-29T02:05:23.457753Z",
     "start_time": "2024-09-29T02:05:23.332653Z"
    }
   },
   "outputs": [
    {
     "name": "stdout",
     "output_type": "stream",
     "text": [
      "Mean Squared Error: 55165403346026.375\n"
     ]
    },
    {
     "name": "stderr",
     "output_type": "stream",
     "text": [
      "C:\\Anoconda3\\lib\\site-packages\\statsmodels\\tsa\\statespace\\sarimax.py:966: UserWarning: Non-stationary starting autoregressive parameters found. Using zeros as starting parameters.\n",
      "  warn('Non-stationary starting autoregressive parameters'\n",
      "C:\\Anoconda3\\lib\\site-packages\\statsmodels\\tsa\\statespace\\sarimax.py:978: UserWarning: Non-invertible starting MA parameters found. Using zeros as starting parameters.\n",
      "  warn('Non-invertible starting MA parameters found.'\n"
     ]
    }
   ],
   "source": [
    "from statsmodels.tsa.arima.model import ARIMA\n",
    "\n",
    "train = monthly_cost[monthly_cost.index < '2023-01-01']\n",
    "test = monthly_cost[(monthly_cost.index >= '2023-01-01') & (monthly_cost.index < '2024-01-01')]\n",
    "\n",
    "# Fit ARIMA model\n",
    "model = ARIMA(train['TRANSACTION_AMOUNT'], order=(1,0,1))\n",
    "model_fit = model.fit()\n",
    "\n",
    "start = len(train)\n",
    "end = len(train) + len(test) - 1\n",
    "predictions = model_fit.predict(start=start, end=end, typ='levels')\n",
    "\n",
    "mse = mean_squared_error(test['TRANSACTION_AMOUNT'], predictions)\n",
    "print(f'Mean Squared Error: {mse}')"
   ]
  },
  {
   "cell_type": "code",
   "execution_count": 41,
   "id": "788822fb",
   "metadata": {
    "ExecuteTime": {
     "end_time": "2024-09-29T02:05:30.270288Z",
     "start_time": "2024-09-29T02:05:29.984158Z"
    }
   },
   "outputs": [
    {
     "data": {
      "image/png": "[encoded data removed]",
      "text/plain": [
       "<Figure size 720x432 with 1 Axes>"
      ]
     },
     "metadata": {
      "needs_background": "light"
     },
     "output_type": "display_data"
    }
   ],
   "source": [
    "plt.figure(figsize=(10, 6))\n",
    "plt.plot(train.index, train['TRANSACTION_AMOUNT'], label='Training Data')\n",
    "plt.plot(test.index, test['TRANSACTION_AMOUNT'], label='Test Data', color='orange')\n",
    "plt.plot(test.index, predictions, label='Predicted Sales', color='green')\n",
    "plt.title('ARIMA Model - Training vs Test Data')\n",
    "plt.xlabel('Month')\n",
    "plt.ylabel('Sales Amount')\n",
    "plt.legend()\n",
    "plt.show()"
   ]
  }
 ],
 "metadata": {
  "kernelspec": {
   "display_name": "Python 3 (ipykernel)",
   "language": "python",
   "name": "python3"
  },
  "language_info": {
   "codemirror_mode": {
    "name": "ipython",
    "version": 3
   },
   "file_extension": ".py",
   "mimetype": "text/x-python",
   "name": "python",
   "nbconvert_exporter": "python",
   "pygments_lexer": "ipython3",
   "version": "3.11.5"
  },
  "varInspector": {
   "cols": {
    "lenName": 16,
    "lenType": 16,
    "lenVar": 40
   },
   "kernels_config": {
    "python": {
     "delete_cmd_postfix": "",
     "delete_cmd_prefix": "del ",
     "library": "var_list.py",
     "varRefreshCmd": "print(var_dic_list())"
    },
    "r": {
     "delete_cmd_postfix": ") ",
     "delete_cmd_prefix": "rm(",
     "library": "var_list.r",
     "varRefreshCmd": "cat(var_dic_list()) "
    }
   },
   "types_to_exclude": [
    "module",
    "function",
    "builtin_function_or_method",
    "instance",
    "_Feature"
   ],
   "window_display": false
  }
 },
 "nbformat": 4,
 "nbformat_minor": 5
}
